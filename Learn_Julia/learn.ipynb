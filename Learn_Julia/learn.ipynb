{
 "cells": [
  {
   "cell_type": "code",
   "execution_count": 3,
   "metadata": {},
   "outputs": [],
   "source": [
    "using OMEinsum, Test, LinearAlgebra, Yao"
   ]
  },
  {
   "cell_type": "code",
   "execution_count": 4,
   "metadata": {},
   "outputs": [
    {
     "name": "stdout",
     "output_type": "stream",
     "text": [
      "\u001b[0m\u001b[1mTest Summary: | \u001b[22m\u001b[32m\u001b[1mPass  \u001b[22m\u001b[39m\u001b[36m\u001b[1mTotal  \u001b[22m\u001b[39m\u001b[0m\u001b[1mTime\u001b[22m\n",
      "trace perm    | \u001b[32m   1  \u001b[39m\u001b[36m    1  \u001b[39m\u001b[0m1.0s\n"
     ]
    },
    {
     "data": {
      "text/plain": [
       "Test.DefaultTestSet(\"trace perm\", Any[], 1, false, false, true, 1.717228870946047e9, 1.717228871940473e9, false, \"/Users/TNM/Tensor_network_methods/Qing_py/Learn_Julia/learn.ipynb\")"
      ]
     },
     "metadata": {},
     "output_type": "display_data"
    }
   ],
   "source": [
    "# example 1.1: trace-permutation\n",
    "code_traceperm = ein\"lm,mn,nl->\"\n",
    "\n",
    "@testset \"trace perm\" begin\n",
    "    A, B, C = rand(3, 3), rand(3, 3), rand(3, 3)\n",
    "    res1 = code_traceperm(A, B, C)\n",
    "    @test res1[] ≈ tr(A * B * C) \n",
    "end "
   ]
  },
  {
   "cell_type": "code",
   "execution_count": 5,
   "metadata": {},
   "outputs": [
    {
     "name": "stdout",
     "output_type": "stream",
     "text": [
      "\u001b[0m\u001b[1mTest Summary: | \u001b[22m\u001b[32m\u001b[1mPass  \u001b[22m\u001b[39m\u001b[36m\u001b[1mTotal  \u001b[22m\u001b[39m\u001b[0m\u001b[1mTime\u001b[22m\n",
      "SVD           | \u001b[32m   1  \u001b[39m\u001b[36m    1  \u001b[39m\u001b[0m0.4s\n"
     ]
    },
    {
     "data": {
      "text/plain": [
       "Test.DefaultTestSet(\"SVD\", Any[], 1, false, false, true, 1.717228874293613e9, 1.717228874701233e9, false, \"/Users/TNM/Tensor_network_methods/Qing_py/Learn_Julia/learn.ipynb\")"
      ]
     },
     "metadata": {},
     "output_type": "display_data"
    }
   ],
   "source": [
    "# Example 1.2: SVD decomposition\n",
    "code_svd = ein\"ij,j,jk->ik\"\n",
    "@testset \"SVD\" begin\n",
    "    A = rand(5, 3)\n",
    "    U, S, V = svd(A)\n",
    "    res2 = code_svd(U, S, V')\n",
    "    @test res2 ≈ A\n",
    "end"
   ]
  },
  {
   "cell_type": "code",
   "execution_count": 6,
   "metadata": {},
   "outputs": [
    {
     "name": "stdout",
     "output_type": "stream",
     "text": [
      "Time complexity: 2^39.86313713864835\n",
      "Space complexity: 2^13.287712379549449\n",
      "Read-write complexity: 2^20.953119363705447\n",
      "Time complexity: 2^33.23378050414179\n",
      "Space complexity: 2^26.575424759098897\n",
      "Read-write complexity: 2^27.59028062325597\n",
      "Time complexity: 2^27.582692034590373\n",
      "Space complexity: 2^19.931568569324174\n",
      "Read-write complexity: 2^21.95663281043284\n",
      "Time complexity: 2^27.582692034590373\n",
      "Space complexity: 2^19.931568569324174\n",
      "Read-write complexity: 2^21.95663281043284\n"
     ]
    }
   ],
   "source": [
    "# Example 1.3: Contraction order\n",
    "code_order = ein\"il,l,kjl,kmn,jn->im\"\n",
    "size_dict = uniformsize(code_order, 100)\n",
    "com1 = contraction_complexity(code_order, size_dict)\n",
    "\n",
    "opt_order1 = ein\"(il,l),((kjl,kmn),jn)->im\"\n",
    "com2 = contraction_complexity(opt_order1, size_dict)\n",
    "\n",
    "opt_order2 = ein\"(il,l),(kjl,(kmn,jn))->im\"\n",
    "com3 = contraction_complexity(opt_order2, size_dict)\n",
    "\n",
    "opt_order3 = optimize_code(code_order, size_dict, TreeSA())\n",
    "com4 = contraction_complexity(opt_order3, size_dict)\n",
    "\n",
    "println(com1)\n",
    "println(com2)\n",
    "println(com3)\n",
    "println(com4)"
   ]
  },
  {
   "cell_type": "code",
   "execution_count": 4,
   "metadata": {},
   "outputs": [
    {
     "name": "stdout",
     "output_type": "stream",
     "text": [
      "\u001b[0m\u001b[1mTest Summary: | \u001b[22m\u001b[32m\u001b[1mPass  \u001b[22m\u001b[39m\u001b[36m\u001b[1mTotal  \u001b[22m\u001b[39m\u001b[0m\u001b[1mTime\u001b[22m\n",
      "ghz state     | \u001b[32m   1  \u001b[39m\u001b[36m    1  \u001b[39m\u001b[0m4.0s\n"
     ]
    },
    {
     "data": {
      "text/plain": [
       "Test.DefaultTestSet(\"ghz state\", Any[], 1, false, false, true, 1.717479617878921e9, 1.717479621840371e9, false, \"/Users/TNM/Tensor_network_methods/Qing_py/Learn_Julia/learn.ipynb\")"
      ]
     },
     "metadata": {},
     "output_type": "display_data"
    }
   ],
   "source": [
    "# Example 2.1: ghz state\n",
    "mutable struct IndexStore\n",
    "    n::Int\n",
    "    IndexStore(n::Int=0) = new(n)\n",
    "end\n",
    "newindex!(store::IndexStore) = store.n += 1\n",
    "\n",
    "struct MPS{T}\n",
    "    tensors::Vector{Array{T, 3}}\n",
    "end\n",
    "\n",
    "function ghz_mps(n::Int)\n",
    "    t1 = zeros(ComplexF64, 1, 2, 2); t1[1, 1, 1] = t1[1, 2, 2] = 1\n",
    "    t2 = zeros(ComplexF64, 2, 2, 2); t2[1, 1, 1] = t2[2, 2, 2] = 1\n",
    "    t3 = zeros(ComplexF64, 2, 2, 1); t3[1, 1, 1] = t3[2, 2, 1] = 1/√2\n",
    "    tensors = [t1, fill(t2, n-2)..., t3]\n",
    "    return MPS(tensors)\n",
    "end\n",
    "\n",
    "function code_mps(n::Int)\n",
    "    store = IndexStore()\n",
    "    ixs = Vector{Int}[]\n",
    "    iy = Vector{Int}()\n",
    "    right = newindex!(store)\n",
    "    for _ = 1:n\n",
    "        left = right\n",
    "        physical = newindex!(store)\n",
    "        right = newindex!(store)\n",
    "        push!(ixs, [left, physical, right])\n",
    "        push!(iy, physical)\n",
    "    end\n",
    "    return EinCode(ixs, iy)\n",
    "end\n",
    "\n",
    "code_mps(5)\n",
    "\n",
    "@testset \"ghz state\" begin\n",
    "    n = 10\n",
    "    rawmps = code_mps(n)\n",
    "    ghz = ghz_mps(n)\n",
    "    code = optimize_code(rawmps, uniformsize(rawmps, 2), TreeSA())\n",
    "    v1 = vec(code(ghz.tensors...))\n",
    "    v2 = statevec(ghz_state(n))\n",
    "    @test v1 ≈ v2\n",
    "end"
   ]
  },
  {
   "cell_type": "code",
   "execution_count": null,
   "metadata": {},
   "outputs": [],
   "source": []
  },
  {
   "cell_type": "code",
   "execution_count": 6,
   "metadata": {},
   "outputs": [
    {
     "name": "stdout",
     "output_type": "stream",
     "text": [
      "\u001b[0m\u001b[1mTest Summary:  | \u001b[22m\u001b[32m\u001b[1mPass  \u001b[22m\u001b[39m\u001b[36m\u001b[1mTotal  \u001b[22m\u001b[39m\u001b[0m\u001b[1mTime\u001b[22m\n",
      "canonical form | \u001b[32m   5  \u001b[39m\u001b[36m    5  \u001b[39m\u001b[0m0.0s\n"
     ]
    },
    {
     "name": "stderr",
     "output_type": "stream",
     "text": [
      "┌ Info: entropy = -0.0\n",
      "└ @ Main /Users/TNM/Tensor_network_methods/Qing_py/Learn_Julia/learn.ipynb:20\n",
      "┌ Info: entropy = -0.0\n",
      "└ @ Main /Users/TNM/Tensor_network_methods/Qing_py/Learn_Julia/learn.ipynb:20\n",
      "┌ Info: entropy = -0.0\n",
      "└ @ Main /Users/TNM/Tensor_network_methods/Qing_py/Learn_Julia/learn.ipynb:20\n",
      "┌ Info: entropy = 0.6931471805599454\n",
      "└ @ Main /Users/TNM/Tensor_network_methods/Qing_py/Learn_Julia/learn.ipynb:20\n"
     ]
    },
    {
     "data": {
      "text/plain": [
       "Test.DefaultTestSet(\"canonical form\", Any[], 5, false, false, true, 1.717479852121947e9, 1.717479852122712e9, false, \"/Users/TNM/Tensor_network_methods/Qing_py/Learn_Julia/learn.ipynb\")"
      ]
     },
     "metadata": {},
     "output_type": "display_data"
    }
   ],
   "source": [
    "# Example 2.2: Canonical form\n",
    "\n",
    "struct MPS{T}\n",
    "    tensors::Vector{Array{T, 3}}\n",
    "end\n",
    "\n",
    "function truncated_svd(tmat::AbstractMatrix, dmax::Int, atol::Real)\n",
    "    u, s, v = LinearAlgebra.svd(tmat)\n",
    "    dmax = min(searchsortedfirst(s, atol, rev=true), dmax, length(s))\n",
    "    return u[:, 1:dmax], s[1:dmax], v'[1:dmax, :], sum(s[dmax+1:end])\n",
    "end\n",
    "\n",
    "entropy(p::Vector) = -sum(x->x * log(x), p)\n",
    "\n",
    "function left_canonicalize!(mps::MPS)\n",
    "    for i = 1:length(mps.tensors)-1\n",
    "        left, right = mps.tensors[i], mps.tensors[i+1]\n",
    "        mleft, mright = reshape(left, :, size(left, 3)), reshape(right, size(right, 1), :)\n",
    "        u, s, v, trunc = truncated_svd(mleft * mright, size(mleft, 2), 0)\n",
    "        @info \"entropy = $(entropy(s .^ 2))\"\n",
    "        mps.tensors[i] = reshape(u, size(left, 1), size(left, 2), size(u, 2))\n",
    "        mps.tensors[i+1] = reshape(Diagonal(s) * v, size(v, 1), size(right, 2), size(right, 3))\n",
    "        mps.tensors[i+1] = permutedims(mps.tensors[i+1], (2, 1, 3))\n",
    "    end\n",
    "    return mps\n",
    "end\n",
    "\n",
    "@testset \"canonical form\" begin\n",
    "    n = 5\n",
    "    ghz = ghz_mps(n)\n",
    "    left_canonicalize!(ghz)\n",
    "    left_env = ones(ComplexF64, 1, 1)\n",
    "    for i = 1:n\n",
    "        left_env = ein\"(ab,aij),bik->jk\"(left_env, conj.(ghz.tensors[i]), ghz.tensors[i])\n",
    "        @test left_env ≈ Matrix{ComplexF64}(I, size(left_env)...)\n",
    "    end\n",
    "end"
   ]
  },
  {
   "cell_type": "code",
   "execution_count": 1,
   "metadata": {},
   "outputs": [
    {
     "name": "stdout",
     "output_type": "stream",
     "text": [
      "After sweep 1 energy=-4.2575981587225815  maxlinkdim=16 maxerr=8.85E-06 time=6.929\n",
      "After sweep 2 energy=-4.258035206805498  maxlinkdim=22 maxerr=1.33E-10 time=0.005\n",
      "After sweep 3 energy=-4.258035206805349  maxlinkdim=20 maxerr=9.22E-11 time=0.005\n",
      "After sweep 4 energy=-4.258035206805355  maxlinkdim=20 maxerr=9.16E-11 time=0.008\n",
      "After sweep 5 energy=-4.258035206805353  maxlinkdim=20 maxerr=9.16E-11 time=0.005\n"
     ]
    }
   ],
   "source": [
    "using ITensors, ITensorMPS\n",
    "let\n",
    "  N = 10\n",
    "  sites = siteinds(\"S=1/2\",N)\n",
    "\n",
    "  os = OpSum()\n",
    "  for j=1:N-1\n",
    "    os += \"Sz\",j,\"Sz\",j+1\n",
    "    os += 1/2,\"S+\",j,\"S-\",j+1\n",
    "    os += 1/2,\"S-\",j,\"S+\",j+1\n",
    "  end\n",
    "  H = MPO(os,sites)\n",
    "\n",
    "  psi0 = random_mps(sites;linkdims=10)\n",
    "\n",
    "  nsweeps = 5\n",
    "  maxdim = [16,24,36,44,100]\n",
    "  cutoff = [1E-10]\n",
    "\n",
    "  energy,psi = dmrg(H,psi0;nsweeps,maxdim,cutoff)\n",
    "\n",
    "  return \n",
    "end"
   ]
  },
  {
   "cell_type": "code",
   "execution_count": 2,
   "metadata": {},
   "outputs": [
    {
     "name": "stdout",
     "output_type": "stream",
     "text": [
      "0.0 0.5\n",
      "0.1 0.4950166442955186\n",
      "0.2 0.48026435362997627\n",
      "0.3 0.4563259916566175\n",
      "0.4 0.4241383988594508\n",
      "0.5 0.38494194097057144\n",
      "0.6 0.3402152047579973\n",
      "0.7 0.2915987689236375\n",
      "0.8 0.24081311879285608\n",
      "0.9 0.18957612125454035\n",
      "1.0 0.1395246678818202\n",
      "1.1 0.09214495065942671\n",
      "1.2 0.04871482415839579\n",
      "1.3 0.010261107057733107\n",
      "1.4 -0.022467094666772578\n",
      "1.5 -0.049008706782350676\n",
      "1.6 -0.06918539863434985\n",
      "1.7 -0.08308234853686178\n",
      "1.8 -0.09101776269283178\n",
      "1.9 -0.09350364537194998\n",
      "2.0 -0.09120106796651971\n",
      "2.1 -0.08487275547396363\n",
      "2.2 -0.07533658661333376\n",
      "2.3 -0.06342201454534535\n",
      "2.4 -0.04993156020519557\n",
      "2.5 -0.03560904884218848\n",
      "2.6 -0.02111550797567908\n",
      "2.7 -0.007013147325221143\n",
      "2.8 0.006243135575112847\n",
      "2.9 0.018307094777279057\n",
      "3.0 0.028936597972466106\n",
      "3.1 0.03798438412251904\n",
      "3.2 0.04538551607210699\n",
      "3.3 0.051143084742723915\n",
      "3.4 0.05531336320565637\n",
      "3.5 0.057991485680458935\n",
      "3.6 0.05929866653052091\n",
      "3.7 0.059371318230503234\n",
      "3.8 0.058352525697764376\n",
      "3.9 0.05638579564168852\n",
      "4.0 0.05361094607230759\n",
      "4.1 0.05016174628017594\n",
      "4.2 0.04616486087041037\n",
      "4.3 0.04173974206458398\n",
      "4.4 0.036998785090860714\n",
      "4.5 0.03204753159919835\n",
      "4.6 0.02698462667481777\n",
      "4.7 0.02190139821790082\n",
      "4.8 0.016881051174952696\n",
      "4.9 0.011997573820049756\n",
      "5.0 0.007314527505205947\n"
     ]
    }
   ],
   "source": [
    "using ITensors, ITensorMPS\n",
    "\n",
    "let\n",
    "  N = 10\n",
    "  cutoff = 1E-8\n",
    "  tau = 0.1\n",
    "  ttotal = 5.0\n",
    "\n",
    "  # Make an array of 'site' indices\n",
    "  s = siteinds(\"S=1/2\", N; conserve_qns=true)\n",
    "\n",
    "  # Make gates (1,2),(2,3),(3,4),...\n",
    "  gates = ITensor[]\n",
    "  for j in 1:(N - 1)\n",
    "    s1 = s[j]\n",
    "    s2 = s[j + 1]\n",
    "    hj =\n",
    "      op(\"Sz\", s1) * op(\"Sz\", s2) +\n",
    "      1 / 2 * op(\"S+\", s1) * op(\"S-\", s2) +\n",
    "      1 / 2 * op(\"S-\", s1) * op(\"S+\", s2)\n",
    "    Gj = exp(-im * tau / 2 * hj)\n",
    "    push!(gates, Gj)\n",
    "  end\n",
    "  # Include gates in reverse order too\n",
    "  # (N,N-1),(N-1,N-2),...\n",
    "  append!(gates, reverse(gates))\n",
    "\n",
    "  # Initialize psi to be a product state (alternating up and down)\n",
    "  psi = MPS(s, n -> isodd(n) ? \"Up\" : \"Dn\")\n",
    "\n",
    "  c = div(N, 2) # center site\n",
    "\n",
    "  # Compute and print <Sz> at each time step\n",
    "  # then apply the gates to go to the next time\n",
    "  for t in 0.0:tau:ttotal\n",
    "    Sz = expect(psi, \"Sz\"; sites=c)\n",
    "    println(\"$t $Sz\")\n",
    "\n",
    "    t≈ttotal && break\n",
    "\n",
    "    psi = apply(gates, psi; cutoff)\n",
    "    normalize!(psi)\n",
    "  end\n",
    "\n",
    "  return\n",
    "end"
   ]
  },
  {
   "cell_type": "code",
   "execution_count": 38,
   "metadata": {},
   "outputs": [
    {
     "name": "stdout",
     "output_type": "stream",
     "text": [
      "0.0 0.5\n"
     ]
    },
    {
     "ename": "MethodError",
     "evalue": "MethodError: no method matching sample!(::MPS, ::UnitRange{Int64})\n\nClosest candidates are:\n  sample!(::MPS)\n   @ ITensors ~/.julia/packages/ITensors/iifFp/src/lib/ITensorMPS/src/mps.jl:625\n",
     "output_type": "error",
     "traceback": [
      "MethodError: no method matching sample!(::MPS, ::UnitRange{Int64})\n",
      "\n",
      "Closest candidates are:\n",
      "  sample!(::MPS)\n",
      "   @ ITensors ~/.julia/packages/ITensors/iifFp/src/lib/ITensorMPS/src/mps.jl:625\n",
      "\n",
      "\n",
      "Stacktrace:\n",
      " [1] top-level scope\n",
      "   @ /Users/TNM/Tensor_network_methods/Qing_py/Learn_Julia/learn.ipynb:42"
     ]
    }
   ],
   "source": [
    "let\n",
    "    N = 10\n",
    "    cutoff = 1E-8\n",
    "    tau = 0.1\n",
    "    ttotal = 5.0\n",
    "  \n",
    "    # Make an array of 'site' indices\n",
    "    s = siteinds(\"S=1/2\", N; conserve_qns=true)\n",
    "  \n",
    "    # Make gates (1,2),(2,3),(3,4),...\n",
    "    gates = ITensor[]\n",
    "    for j in 1:(N - 1)\n",
    "      s1 = s[j]\n",
    "      s2 = s[j + 1]\n",
    "      hj =\n",
    "        op(\"Sz\", s1) * op(\"Sz\", s2) +\n",
    "        1 / 2 * op(\"S+\", s1) * op(\"S-\", s2) +\n",
    "        1 / 2 * op(\"S-\", s1) * op(\"S+\", s2)\n",
    "      Gj = exp(-im * tau / 2 * hj)\n",
    "      push!(gates, Gj)\n",
    "    end\n",
    "    # Include gates in reverse order too\n",
    "    # (N,N-1),(N-1,N-2),...\n",
    "    append!(gates, reverse(gates))\n",
    "  \n",
    "    # Initialize psi to be a product state (alternating up and down)\n",
    "    psi = MPS(s, n -> isodd(n) ? \"Up\" : \"Dn\")\n",
    "  \n",
    "    c = div(N, 2) # center site\n",
    "  \n",
    "    # Compute and print <Sz> at each time step\n",
    "    # then apply the gates to go to the next time\n",
    "    for t in 0.0:tau:ttotal\n",
    "      Sz = expect(psi, \"Sz\"; sites=c)\n",
    "      println(\"$t $Sz\")\n",
    "  \n",
    "      t≈ttotal && break\n",
    "  \n",
    "      psi = apply(gates, psi; cutoff)\n",
    "      \n",
    "      normalize!(psi)\n",
    "      bits = sample!(psi, 1:10)\n",
    "      @show bits\n",
    "    end\n",
    "  \n",
    "    return\n",
    "  end"
   ]
  },
  {
   "cell_type": "code",
   "execution_count": 19,
   "metadata": {},
   "outputs": [],
   "source": [
    "\n",
    "using LinearAlgebra"
   ]
  },
  {
   "cell_type": "code",
   "execution_count": 30,
   "metadata": {},
   "outputs": [
    {
     "ename": "MethodError",
     "evalue": "MethodError: no method matching inner(::MPS, ::String, ::Index{Int64}, ::MPS)\n\nClosest candidates are:\n  inner(!Matched::MPO, !Matched::MPS, !Matched::MPO, ::MPS)\n   @ ITensors ~/.julia/packages/ITensors/iifFp/src/lib/ITensorMPS/src/mpo.jl:524\n  inner(::MPS, !Matched::MPO, !Matched::MPS; kwargs...)\n   @ ITensors ~/.julia/packages/ITensors/iifFp/src/lib/ITensorMPS/src/mpo.jl:449\n  inner(::MPS, !Matched::ITensors.LazyApply.Applied{typeof(product), Tuple{MPO, MPS}})\n   @ ITensors ~/.julia/packages/ITensors/iifFp/src/lib/ITensorMPS/src/mpo.jl:451\n  ...\n",
     "output_type": "error",
     "traceback": [
      "MethodError: no method matching inner(::MPS, ::String, ::Index{Int64}, ::MPS)\n",
      "\n",
      "Closest candidates are:\n",
      "  inner(!Matched::MPO, !Matched::MPS, !Matched::MPO, ::MPS)\n",
      "   @ ITensors ~/.julia/packages/ITensors/iifFp/src/lib/ITensorMPS/src/mpo.jl:524\n",
      "  inner(::MPS, !Matched::MPO, !Matched::MPS; kwargs...)\n",
      "   @ ITensors ~/.julia/packages/ITensors/iifFp/src/lib/ITensorMPS/src/mpo.jl:449\n",
      "  inner(::MPS, !Matched::ITensors.LazyApply.Applied{typeof(product), Tuple{MPO, MPS}})\n",
      "   @ ITensors ~/.julia/packages/ITensors/iifFp/src/lib/ITensorMPS/src/mpo.jl:451\n",
      "  ...\n",
      "\n",
      "\n",
      "Stacktrace:\n",
      " [1] measure_first_qubit(psi::MPS, sites::Vector{Index{Int64}})\n",
      "   @ Main /Users/TNM/Tensor_network_methods/Qing_py/Learn_Julia/learn.ipynb:48\n",
      " [2] main()\n",
      "   @ Main /Users/TNM/Tensor_network_methods/Qing_py/Learn_Julia/learn.ipynb:64\n",
      " [3] top-level scope\n",
      "   @ /Users/TNM/Tensor_network_methods/Qing_py/Learn_Julia/learn.ipynb:69"
     ]
    }
   ],
   "source": [
    "\n",
    "\n",
    "# 2. 定义初态\n",
    "function define_initial_state(nqubits)\n",
    "    # Define a 4-qubit system, initialize to |0000>\n",
    "    state = [1, 0] # This is |0> state for each qubit\n",
    "    psi0 = state\n",
    "    for i in 1:nqubits-1\n",
    "        psi0 = kron(psi0, state)\n",
    "    end\n",
    "    return psi0\n",
    "end\n",
    "\n",
    "# 3. 将初态表示为MPS\n",
    "function initial_state_mps(nqubits)\n",
    "    # Convert the state to an MPS\n",
    "    sites = siteinds(\"Qubit\", nqubits)\n",
    "    psi_mps = productMPS(sites, \"0\")\n",
    "    return psi_mps, sites\n",
    "end\n",
    "\n",
    "# 4. 定义哈密顿量\n",
    "function define_hamiltonian(sites)\n",
    "    # Example Hamiltonian: simple nearest-neighbor interaction\n",
    "    ampo = AutoMPO()\n",
    "    for j in 1:3\n",
    "        add!(ampo, \"Sz\", j, \"Sz\", j+1)\n",
    "        add!(ampo, \"Sx\", j)\n",
    "        add!(ampo, \"Sx\", j+1)\n",
    "    end\n",
    "    H = MPO(ampo, sites)\n",
    "    return H\n",
    "end\n",
    "\n",
    "# 5. 演化初态\n",
    "function evolve_state(psi, H, tau)\n",
    "    # Perform time evolution using the time evolution operator\n",
    "    step_size = 0.1\n",
    "    num_steps = Int(tau / step_size)\n",
    "    psi_evolved = psi\n",
    "    \n",
    "    return psi_evolved\n",
    "end\n",
    "\n",
    "# 6. 测量第一个qubit\n",
    "function measure_first_qubit(psi, sites)\n",
    "    # Measure the first qubit in the Z basis\n",
    "    prob_up = inner(psi, \"Sz\", sites[1], psi)\n",
    "    rand_num = rand()\n",
    "    return rand_num < prob_up ? 1 : 0\n",
    "end\n",
    "\n",
    "# 主程序\n",
    "function main()\n",
    "    \n",
    "\n",
    "    nqubits = 4\n",
    "    tau = 1.0\n",
    "\n",
    "    psi, sites = initial_state_mps(nqubits)\n",
    "    H = define_hamiltonian(sites)\n",
    "\n",
    "    psi_evolved = evolve_state(psi, H, tau)\n",
    "    result = measure_first_qubit(psi_evolved, sites)\n",
    "\n",
    "    println(\"Measurement result: \", result)\n",
    "end\n",
    "\n",
    "main()\n"
   ]
  },
  {
   "cell_type": "code",
   "execution_count": 1,
   "metadata": {},
   "outputs": [
    {
     "ename": "UndefVarError",
     "evalue": "UndefVarError: `MPS` not defined",
     "output_type": "error",
     "traceback": [
      "UndefVarError: `MPS` not defined\n",
      "\n",
      "Stacktrace:\n",
      " [1] top-level scope\n",
      "   @ /Users/TNM/Tensor_network_methods/Qing_py/Learn_Julia/learn.ipynb:10"
     ]
    }
   ],
   "source": [
    "# Example 2.2: Canonical form\n",
    "function truncated_svd(tmat::AbstractMatrix, dmax::Int, atol::Real)\n",
    "    u, s, v = LinearAlgebra.svd(tmat)\n",
    "    dmax = min(searchsortedfirst(s, atol, rev=true), dmax, length(s))\n",
    "    return u[:, 1:dmax], s[1:dmax], v'[1:dmax, :], sum(s[dmax+1:end])\n",
    "end\n",
    "\n",
    "entropy(p::Vector) = -sum(x->x * log(x), p)\n",
    "\n",
    "function left_canonicalize!(mps::MPS)\n",
    "    for i = 1:length(mps.tensors)-1\n",
    "        left, right = mps.tensors[i], mps.tensors[i+1]\n",
    "        mleft, mright = reshape(left, :, size(left, 3)), reshape(right, size(right, 1), :)\n",
    "        u, s, v, trunc = truncated_svd(mleft * mright, size(mleft, 2), 0)\n",
    "        @info \"entropy = $(entropy(s .^ 2))\"\n",
    "        mps.tensors[i] = reshape(u, size(left, 1), size(left, 2), size(u, 2))\n",
    "        mps.tensors[i+1] = reshape(Diagonal(s) * v, size(v, 1), size(right, 2), size(right, 3))\n",
    "        mps.tensors[i+1] = permutedims(mps.tensors[i+1], (2, 1, 3))\n",
    "    end\n",
    "    return mps\n",
    "end\n",
    "\n",
    "@testset \"canonical form\" begin\n",
    "    n = 5\n",
    "    ghz = ghz_mps(n)\n",
    "    left_canonicalize!(ghz)\n",
    "    left_env = ones(ComplexF64, 1, 1)\n",
    "    for i = 1:n\n",
    "        left_env = ein\"(ab,aij),bik->jk\"(left_env, conj.(ghz.tensors[i]), ghz.tensors[i])\n",
    "        @test left_env ≈ Matrix{ComplexF64}(I, size(left_env)...)\n",
    "    end\n",
    "end\n"
   ]
  }
 ],
 "metadata": {
  "kernelspec": {
   "display_name": "Julia 1.10.3",
   "language": "julia",
   "name": "julia-1.10"
  },
  "language_info": {
   "file_extension": ".jl",
   "mimetype": "application/julia",
   "name": "julia",
   "version": "1.10.3"
  },
  "orig_nbformat": 4
 },
 "nbformat": 4,
 "nbformat_minor": 2
}
